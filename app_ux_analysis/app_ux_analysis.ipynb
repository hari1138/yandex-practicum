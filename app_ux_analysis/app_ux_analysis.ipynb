{
 "cells": [
  {
   "cell_type": "markdown",
   "metadata": {},
   "source": [
    "## Событийная аналитика мобильного приложения по продаже продуктов"
   ]
  },
  {
   "cell_type": "markdown",
   "metadata": {},
   "source": [
    "Необходимо исследовать поведение пользователей мобильного приложения по продаже продуктов питания и выяснить, сколько пользователей и как доходят до покупки, на каком этапе воронки есть проседание трафику, а так же проанализировать результаты A/A1/B теста по 3 группам: 2 контрольные со старыми шрифтами и одну экспериментальную — с новыми. В нашем распоряжении есть записи логов с информацией о действиях пользователей, или событиях:\n",
    "- EventName — название события;\n",
    "- DeviceIDHash — уникальный идентификатор пользователя;\n",
    "- EventTimestamp — время события;\n",
    "- ExpId — номер эксперимента: 246 и 247 — контрольные группы, а 248 — экспериментальная.\n",
    "\n",
    "    \n",
    " "
   ]
  },
  {
   "cell_type": "markdown",
   "metadata": {},
   "source": [
    "### План"
   ]
  },
  {
   "cell_type": "markdown",
   "metadata": {},
   "source": [
    "1. [Открыть файл и изучить общую информацию, выявить проблемы в данных](#start)\n",
    "2. [Предобработка данных:](#preparing_data)\n",
    "    - [Заменить названия столбцов;](#changing_column_name)\n",
    "    - [Проверить пропуски и типы данных;](#check_data)\n",
    "    - [Добавить столбец даты и времени, и отдельный столбец дат;](#add_columns)\n",
    "3. [Изучить и проверить данные:](#logs_analysis)\n",
    "    - [Выяснить сколько всего событий в логе;](#count_event)\n",
    "    - [Выяснить сколько всего пользователей в логе;](#count_users)\n",
    "    - [Выяснить сколько в среднем событий приходится на пользователя;](#average_event_by_user)\n",
    "    - [Найти максимальную и минимальную дату. Построить гистограмму по дате и времени.  Определить, с какого момента данные полные и отбросить более старые.](#check_period)\n",
    "4. [Изучить воронку событий](#funnel_analysis)\n",
    "    - [Найти уникальные события и отсортировать их по частоте;](#check_unique_event)\n",
    "    - [Посчитать, сколько пользователей совершали каждое из этих событий. Отсортировать события по числу пользователей. Посчитать долю пользователей, которые хоть раз совершали событие;](#number_of_user_by_event)\n",
    "    - [Выяснить все ли события выстраиваются в последовательную цепочку;](#funnel_event_order)\n",
    "    - [Посчитать по воронке событий , какая доля пользователей проходит на следующий шаг воронки (от числа пользователей на предыдущем);](#count_percent_from_previous)\n",
    "    - [Выяснить на каком шаге теряете больше всего пользователей](#check_churn)\n",
    "    - [Найти какая доля пользователей доходит от первого события до оплаты](#count_cr)\n",
    "5. [Изучите результаты эксперимента](#test_analysis)\n",
    "    - [Посчитать, сколько пользователей в каждой экспериментальной группе](#count_users_per_test_group)\n",
    "    - [Проверить, находят ли статистические критерии разницу между выборками 246 и 247(А и А1)](#stat_differance_between_246_247)\n",
    "    - [Посчитать число пользователей, совершивших самое популярное событие в каждой из контрольных групп. Посчитать долю пользователей, совершивших это событие. Проверить, будет ли отличие между группами статистически достоверным. Рассчитать предыдушие шаги для всех других событий. Выяснить, корректно ли разбиты группы](#check_stat_differance_between_group_by_event)\n",
    "    - [Аналогично проделать предыдушие шаги с группой с изменённым шрифтом(B). Сравнить результаты с каждой из контрольных групп в отдельности по каждому событию. Сравнить результаты с объединённой контрольной группой](#check_stat_differance_between_group_by_event)\n",
    "    \n",
    "6. [Общий вывод](#conclusion)\n",
    "    \n",
    "    \n",
    "    "
   ]
  },
  {
   "cell_type": "markdown",
   "metadata": {},
   "source": [
    "<a id=\"start\"></a>\n",
    "### Шаг 1. Откройте файл с данными и изучите общую информацию\n",
    "\n"
   ]
  },
  {
   "cell_type": "code",
   "execution_count": 35,
   "metadata": {
    "scrolled": true
   },
   "outputs": [
    {
     "data": {
      "text/html": [
       "<div>\n",
       "<style scoped>\n",
       "    .dataframe tbody tr th:only-of-type {\n",
       "        vertical-align: middle;\n",
       "    }\n",
       "\n",
       "    .dataframe tbody tr th {\n",
       "        vertical-align: top;\n",
       "    }\n",
       "\n",
       "    .dataframe thead th {\n",
       "        text-align: right;\n",
       "    }\n",
       "</style>\n",
       "<table border=\"1\" class=\"dataframe\">\n",
       "  <thead>\n",
       "    <tr style=\"text-align: right;\">\n",
       "      <th></th>\n",
       "      <th>EventName</th>\n",
       "      <th>DeviceIDHash</th>\n",
       "      <th>EventTimestamp</th>\n",
       "      <th>ExpId</th>\n",
       "    </tr>\n",
       "  </thead>\n",
       "  <tbody>\n",
       "    <tr>\n",
       "      <td>0</td>\n",
       "      <td>MainScreenAppear</td>\n",
       "      <td>4575588528974610257</td>\n",
       "      <td>1564029816</td>\n",
       "      <td>246</td>\n",
       "    </tr>\n",
       "    <tr>\n",
       "      <td>1</td>\n",
       "      <td>MainScreenAppear</td>\n",
       "      <td>7416695313311560658</td>\n",
       "      <td>1564053102</td>\n",
       "      <td>246</td>\n",
       "    </tr>\n",
       "    <tr>\n",
       "      <td>2</td>\n",
       "      <td>PaymentScreenSuccessful</td>\n",
       "      <td>3518123091307005509</td>\n",
       "      <td>1564054127</td>\n",
       "      <td>248</td>\n",
       "    </tr>\n",
       "    <tr>\n",
       "      <td>3</td>\n",
       "      <td>CartScreenAppear</td>\n",
       "      <td>3518123091307005509</td>\n",
       "      <td>1564054127</td>\n",
       "      <td>248</td>\n",
       "    </tr>\n",
       "    <tr>\n",
       "      <td>4</td>\n",
       "      <td>PaymentScreenSuccessful</td>\n",
       "      <td>6217807653094995999</td>\n",
       "      <td>1564055322</td>\n",
       "      <td>248</td>\n",
       "    </tr>\n",
       "  </tbody>\n",
       "</table>\n",
       "</div>"
      ],
      "text/plain": [
       "                 EventName         DeviceIDHash  EventTimestamp  ExpId\n",
       "0         MainScreenAppear  4575588528974610257      1564029816    246\n",
       "1         MainScreenAppear  7416695313311560658      1564053102    246\n",
       "2  PaymentScreenSuccessful  3518123091307005509      1564054127    248\n",
       "3         CartScreenAppear  3518123091307005509      1564054127    248\n",
       "4  PaymentScreenSuccessful  6217807653094995999      1564055322    248"
      ]
     },
     "execution_count": 35,
     "metadata": {},
     "output_type": "execute_result"
    }
   ],
   "source": [
    "#read file\n",
    "import pandas as pd\n",
    "import matplotlib.pyplot as plt\n",
    "from scipy import stats as st\n",
    "import numpy as np\n",
    "import math as mth\n",
    "from pandas.plotting import register_matplotlib_converters\n",
    "register_matplotlib_converters()\n",
    "\n",
    "data_startup = pd.read_csv('/datasets/logs_exp.csv', sep = '\\t')\n",
    "data_startup.head()"
   ]
  },
  {
   "cell_type": "markdown",
   "metadata": {},
   "source": [
    "Загруженный датасет состоит 4 столбцов. В первом столбце (EventName) находятся ключевые пользовательские события, во втором столбце (DeviceIDHash) - уникальный идентификатор, присвоенный пользователю при обращении к приложению, столбец (EventTimestamp) с временем конкретного события и столбец (ExpId) с разметкой пользователей по контрольным групам A/A1/B теста. Уже можно заметить, что столбец EventTimestamp необходимо перевести в формат даты. Также все названия столбцов записаны в верхнем регистре, далее мы поменяем его на нижний для удобства в дальнейшей работе с данными."
   ]
  },
  {
   "cell_type": "markdown",
   "metadata": {},
   "source": [
    "<a id=\"preparing_data\"></a>\n",
    "### Шаг 2. Подготовьте данные\n"
   ]
  },
  {
   "cell_type": "markdown",
   "metadata": {},
   "source": [
    "<a id=\"changing_column_name\"></a>\n",
    "Заменим названия столбцов на удобные для нас, а также проверим пропуски и типы данных. "
   ]
  },
  {
   "cell_type": "code",
   "execution_count": 36,
   "metadata": {},
   "outputs": [],
   "source": [
    "# rename columns\n",
    "data_startup.columns = ['event_name', 'device_id_hash', 'event_timestamp', 'exp_id']"
   ]
  },
  {
   "cell_type": "markdown",
   "metadata": {},
   "source": [
    "<a id=\"check_data\"></a>\n",
    "Проверим пропуски и типы данных"
   ]
  },
  {
   "cell_type": "code",
   "execution_count": 37,
   "metadata": {},
   "outputs": [
    {
     "name": "stdout",
     "output_type": "stream",
     "text": [
      "<class 'pandas.core.frame.DataFrame'>\n",
      "RangeIndex: 244126 entries, 0 to 244125\n",
      "Data columns (total 4 columns):\n",
      "event_name         244126 non-null object\n",
      "device_id_hash     244126 non-null int64\n",
      "event_timestamp    244126 non-null int64\n",
      "exp_id             244126 non-null int64\n",
      "dtypes: int64(3), object(1)\n",
      "memory usage: 7.5+ MB\n"
     ]
    }
   ],
   "source": [
    "# check type of data\n",
    "data_startup.info()"
   ]
  },
  {
   "cell_type": "markdown",
   "metadata": {},
   "source": [
    "Датасет состоит из 244126 строк и 4 столбцов. Столбцу event_timestamp присвоен тип данных int64, однако мы знаем, что по условию в даннм столбце содержится информация о дате события, поэтому далее заменим тип данных на datetime"
   ]
  },
  {
   "cell_type": "code",
   "execution_count": 38,
   "metadata": {},
   "outputs": [
    {
     "data": {
      "text/plain": [
       "event_name         0\n",
       "device_id_hash     0\n",
       "event_timestamp    0\n",
       "exp_id             0\n",
       "dtype: int64"
      ]
     },
     "execution_count": 38,
     "metadata": {},
     "output_type": "execute_result"
    }
   ],
   "source": [
    "# check missing values\n",
    "data_startup.isna().sum()"
   ]
  },
  {
   "cell_type": "markdown",
   "metadata": {},
   "source": [
    "Методом isna().sum() выяснили, что в даннных нет пропусков. "
   ]
  },
  {
   "cell_type": "markdown",
   "metadata": {},
   "source": [
    "<a id=\"add_columns\"></a>\n",
    "Переведем данные в столбце event_timestamp в формат даты и добавим столбец даты и времени, а также отдельный столбец дат"
   ]
  },
  {
   "cell_type": "code",
   "execution_count": 39,
   "metadata": {},
   "outputs": [
    {
     "data": {
      "text/html": [
       "<div>\n",
       "<style scoped>\n",
       "    .dataframe tbody tr th:only-of-type {\n",
       "        vertical-align: middle;\n",
       "    }\n",
       "\n",
       "    .dataframe tbody tr th {\n",
       "        vertical-align: top;\n",
       "    }\n",
       "\n",
       "    .dataframe thead th {\n",
       "        text-align: right;\n",
       "    }\n",
       "</style>\n",
       "<table border=\"1\" class=\"dataframe\">\n",
       "  <thead>\n",
       "    <tr style=\"text-align: right;\">\n",
       "      <th></th>\n",
       "      <th>event_name</th>\n",
       "      <th>device_id_hash</th>\n",
       "      <th>event_timestamp</th>\n",
       "      <th>exp_id</th>\n",
       "      <th>datetime</th>\n",
       "      <th>date</th>\n",
       "    </tr>\n",
       "  </thead>\n",
       "  <tbody>\n",
       "    <tr>\n",
       "      <td>0</td>\n",
       "      <td>MainScreenAppear</td>\n",
       "      <td>4575588528974610257</td>\n",
       "      <td>1564029816</td>\n",
       "      <td>246</td>\n",
       "      <td>2019-07-25 04:43:36</td>\n",
       "      <td>2019-07-25</td>\n",
       "    </tr>\n",
       "    <tr>\n",
       "      <td>1</td>\n",
       "      <td>MainScreenAppear</td>\n",
       "      <td>7416695313311560658</td>\n",
       "      <td>1564053102</td>\n",
       "      <td>246</td>\n",
       "      <td>2019-07-25 11:11:42</td>\n",
       "      <td>2019-07-25</td>\n",
       "    </tr>\n",
       "    <tr>\n",
       "      <td>2</td>\n",
       "      <td>PaymentScreenSuccessful</td>\n",
       "      <td>3518123091307005509</td>\n",
       "      <td>1564054127</td>\n",
       "      <td>248</td>\n",
       "      <td>2019-07-25 11:28:47</td>\n",
       "      <td>2019-07-25</td>\n",
       "    </tr>\n",
       "    <tr>\n",
       "      <td>3</td>\n",
       "      <td>CartScreenAppear</td>\n",
       "      <td>3518123091307005509</td>\n",
       "      <td>1564054127</td>\n",
       "      <td>248</td>\n",
       "      <td>2019-07-25 11:28:47</td>\n",
       "      <td>2019-07-25</td>\n",
       "    </tr>\n",
       "    <tr>\n",
       "      <td>4</td>\n",
       "      <td>PaymentScreenSuccessful</td>\n",
       "      <td>6217807653094995999</td>\n",
       "      <td>1564055322</td>\n",
       "      <td>248</td>\n",
       "      <td>2019-07-25 11:48:42</td>\n",
       "      <td>2019-07-25</td>\n",
       "    </tr>\n",
       "    <tr>\n",
       "      <td>...</td>\n",
       "      <td>...</td>\n",
       "      <td>...</td>\n",
       "      <td>...</td>\n",
       "      <td>...</td>\n",
       "      <td>...</td>\n",
       "      <td>...</td>\n",
       "    </tr>\n",
       "    <tr>\n",
       "      <td>244121</td>\n",
       "      <td>MainScreenAppear</td>\n",
       "      <td>4599628364049201812</td>\n",
       "      <td>1565212345</td>\n",
       "      <td>247</td>\n",
       "      <td>2019-08-07 21:12:25</td>\n",
       "      <td>2019-08-07</td>\n",
       "    </tr>\n",
       "    <tr>\n",
       "      <td>244122</td>\n",
       "      <td>MainScreenAppear</td>\n",
       "      <td>5849806612437486590</td>\n",
       "      <td>1565212439</td>\n",
       "      <td>246</td>\n",
       "      <td>2019-08-07 21:13:59</td>\n",
       "      <td>2019-08-07</td>\n",
       "    </tr>\n",
       "    <tr>\n",
       "      <td>244123</td>\n",
       "      <td>MainScreenAppear</td>\n",
       "      <td>5746969938801999050</td>\n",
       "      <td>1565212483</td>\n",
       "      <td>246</td>\n",
       "      <td>2019-08-07 21:14:43</td>\n",
       "      <td>2019-08-07</td>\n",
       "    </tr>\n",
       "    <tr>\n",
       "      <td>244124</td>\n",
       "      <td>MainScreenAppear</td>\n",
       "      <td>5746969938801999050</td>\n",
       "      <td>1565212498</td>\n",
       "      <td>246</td>\n",
       "      <td>2019-08-07 21:14:58</td>\n",
       "      <td>2019-08-07</td>\n",
       "    </tr>\n",
       "    <tr>\n",
       "      <td>244125</td>\n",
       "      <td>OffersScreenAppear</td>\n",
       "      <td>5746969938801999050</td>\n",
       "      <td>1565212517</td>\n",
       "      <td>246</td>\n",
       "      <td>2019-08-07 21:15:17</td>\n",
       "      <td>2019-08-07</td>\n",
       "    </tr>\n",
       "  </tbody>\n",
       "</table>\n",
       "<p>244126 rows × 6 columns</p>\n",
       "</div>"
      ],
      "text/plain": [
       "                     event_name       device_id_hash  event_timestamp  exp_id  \\\n",
       "0              MainScreenAppear  4575588528974610257       1564029816     246   \n",
       "1              MainScreenAppear  7416695313311560658       1564053102     246   \n",
       "2       PaymentScreenSuccessful  3518123091307005509       1564054127     248   \n",
       "3              CartScreenAppear  3518123091307005509       1564054127     248   \n",
       "4       PaymentScreenSuccessful  6217807653094995999       1564055322     248   \n",
       "...                         ...                  ...              ...     ...   \n",
       "244121         MainScreenAppear  4599628364049201812       1565212345     247   \n",
       "244122         MainScreenAppear  5849806612437486590       1565212439     246   \n",
       "244123         MainScreenAppear  5746969938801999050       1565212483     246   \n",
       "244124         MainScreenAppear  5746969938801999050       1565212498     246   \n",
       "244125       OffersScreenAppear  5746969938801999050       1565212517     246   \n",
       "\n",
       "                  datetime        date  \n",
       "0      2019-07-25 04:43:36  2019-07-25  \n",
       "1      2019-07-25 11:11:42  2019-07-25  \n",
       "2      2019-07-25 11:28:47  2019-07-25  \n",
       "3      2019-07-25 11:28:47  2019-07-25  \n",
       "4      2019-07-25 11:48:42  2019-07-25  \n",
       "...                    ...         ...  \n",
       "244121 2019-08-07 21:12:25  2019-08-07  \n",
       "244122 2019-08-07 21:13:59  2019-08-07  \n",
       "244123 2019-08-07 21:14:43  2019-08-07  \n",
       "244124 2019-08-07 21:14:58  2019-08-07  \n",
       "244125 2019-08-07 21:15:17  2019-08-07  \n",
       "\n",
       "[244126 rows x 6 columns]"
      ]
     },
     "execution_count": 39,
     "metadata": {},
     "output_type": "execute_result"
    }
   ],
   "source": [
    "# convert event_timestamp to datatime and date\n",
    "data_startup['datetime'] = data_startup.event_timestamp.astype(\"datetime64[s]\")\n",
    "data_startup['date'] = data_startup.datetime.dt.date\n",
    "data_startup"
   ]
  },
  {
   "cell_type": "markdown",
   "metadata": {},
   "source": [
    "Проверим данные на наличие дубликатов:"
   ]
  },
  {
   "cell_type": "code",
   "execution_count": 40,
   "metadata": {},
   "outputs": [
    {
     "data": {
      "text/plain": [
       "413"
      ]
     },
     "execution_count": 40,
     "metadata": {},
     "output_type": "execute_result"
    }
   ],
   "source": [
    "data_startup.duplicated().sum()"
   ]
  },
  {
   "cell_type": "markdown",
   "metadata": {},
   "source": [
    "Так как дублированные строки повторяют друг друга в точности до секунд в столбце datetime, можно предположить, что пользователь обновлял приложение и событие могло сработать повторно. Доля дубликатов в общем датасете занимает менее 1%, поэтому мы можем их удалить "
   ]
  },
  {
   "cell_type": "code",
   "execution_count": 41,
   "metadata": {},
   "outputs": [],
   "source": [
    "data_startup.drop_duplicates(inplace = True )"
   ]
  },
  {
   "cell_type": "markdown",
   "metadata": {},
   "source": [
    "### Вывод"
   ]
  },
  {
   "cell_type": "markdown",
   "metadata": {},
   "source": [
    "На данном шаге мы изучили загруженный датасет методом head() и info(). Привели данные к корректным типам: столбец event_timestamp к типу данных datetime; выяснили, что в данных нет пропущенных значений; перевели названия столбцов в нижний регистр и добавили дополнительные столбцы с датой и временем и датой для удобства дальнейшего анализа.Проверили данные на наличие дубликатов и удалили их методом drop_duplicates()"
   ]
  },
  {
   "cell_type": "markdown",
   "metadata": {},
   "source": [
    "<a id=\"logs_analysis\"></a>\n",
    "### Шаг 3. Изучите и проверьте данные\n"
   ]
  },
  {
   "cell_type": "markdown",
   "metadata": {},
   "source": [
    "<a id=\"count_event\"></a>\n",
    "Выясним, сколько всего событий в датасете:"
   ]
  },
  {
   "cell_type": "code",
   "execution_count": 42,
   "metadata": {},
   "outputs": [
    {
     "name": "stdout",
     "output_type": "stream",
     "text": [
      "Total events number: 243713\n"
     ]
    }
   ],
   "source": [
    "total_events = data_startup.event_name.count()\n",
    "print('Total events number: {}'.format(total_events))"
   ]
  },
  {
   "cell_type": "markdown",
   "metadata": {},
   "source": [
    "<a id=\"count_users\"></a>\n",
    "Также найдем количество уникальных пользователей в логах:"
   ]
  },
  {
   "cell_type": "code",
   "execution_count": 43,
   "metadata": {},
   "outputs": [
    {
     "name": "stdout",
     "output_type": "stream",
     "text": [
      "Number of unique users: 7551\n"
     ]
    }
   ],
   "source": [
    "# count users in logs\n",
    "\n",
    "user_number = data_startup.device_id_hash.nunique()\n",
    "print('Number of unique users: {}'.format(user_number))"
   ]
  },
  {
   "cell_type": "markdown",
   "metadata": {},
   "source": [
    "<a id=\"average_event_by_user\"></a>\n",
    "Далее рассчитаем сколько в среднем событий приходится на пользователя:"
   ]
  },
  {
   "cell_type": "code",
   "execution_count": 44,
   "metadata": {},
   "outputs": [
    {
     "name": "stdout",
     "output_type": "stream",
     "text": [
      "Average events count by users: 32.27559263673685\n",
      "Median events count by users: 20.0\n"
     ]
    },
    {
     "data": {
      "text/plain": [
       "<matplotlib.axes._subplots.AxesSubplot at 0x7f54b9e04050>"
      ]
     },
     "execution_count": 44,
     "metadata": {},
     "output_type": "execute_result"
    },
    {
     "data": {
      "image/png": "[encoded data removed]",
      "text/plain": [
       "<Figure size 432x288 with 1 Axes>"
      ]
     },
     "metadata": {
      "needs_background": "light"
     },
     "output_type": "display_data"
    }
   ],
   "source": [
    "#count average event per user  \n",
    "\n",
    "average_event_by_user = data_startup.groupby('device_id_hash').agg({'event_name':'count'}).mean()[0]\n",
    "median_event_by_user = data_startup.groupby('device_id_hash').agg({'event_name':'count'}).median()[0]\n",
    "print('Average events count by users: {}'.format(average_event_by_user))\n",
    "print('Median events count by users: {}'.format(median_event_by_user))\n",
    "#data_startup.groupby('device_id_hash').agg({'event_name':'count'}).hist(bins=100)\n",
    "plt.title(\"Диаграмма размаха количества событий на пользователя\")\n",
    "plt.ylabel(\"количество событий\")\n",
    "data_startup.groupby('device_id_hash').agg({'event_name':'count'}).boxplot()"
   ]
  },
  {
   "cell_type": "markdown",
   "metadata": {},
   "source": [
    "Среднее количество событий на пользователя выше чем медиана, следовательно, можем сделать вывод, что датасет скошен вправо. На графике boxplot видно, что в данных присутствуют выбросы по аномально высоким значениям количества событий на пользователя"
   ]
  },
  {
   "cell_type": "markdown",
   "metadata": {},
   "source": [
    "<a id=\"check_period\"></a>\n",
    "При наличии 5 уникальных событий пользователи в среднем совершают 32 события, чтобы понять совершают ли пользователи все события повторно (всю воронку), а также понять частоту этих событий, изучим период данных которым мы располагаем:"
   ]
  },
  {
   "cell_type": "code",
   "execution_count": 45,
   "metadata": {},
   "outputs": [
    {
     "name": "stdout",
     "output_type": "stream",
     "text": [
      "Minimum date: 2019-07-25\n",
      "Maximum data: 2019-08-07\n"
     ]
    }
   ],
   "source": [
    "# check min and max data\n",
    "minimum_date = data_startup.date.min()\n",
    "maximum_date = data_startup.date.max()\n",
    "print('Minimum date: {}\\nMaximum data: {}'.format(minimum_date, maximum_date))"
   ]
  },
  {
   "cell_type": "markdown",
   "metadata": {},
   "source": [
    "Мы имеем данные за 2 недели, построим гистограмму, чтобы выяснить как распределены данные за весь период:"
   ]
  },
  {
   "cell_type": "code",
   "execution_count": 46,
   "metadata": {
    "scrolled": false
   },
   "outputs": [
    {
     "data": {
      "image/png": "[encoded data removed]",
      "text/plain": [
       "<Figure size 432x288 with 1 Axes>"
      ]
     },
     "metadata": {
      "needs_background": "light"
     },
     "output_type": "display_data"
    },
    {
     "data": {
      "image/png": "[encoded data removed]",
      "text/plain": [
       "<Figure size 432x288 with 1 Axes>"
      ]
     },
     "metadata": {
      "needs_background": "light"
     },
     "output_type": "display_data"
    },
    {
     "data": {
      "image/png": "[encoded data removed]",
      "text/plain": [
       "<Figure size 432x288 with 1 Axes>"
      ]
     },
     "metadata": {
      "needs_background": "light"
     },
     "output_type": "display_data"
    }
   ],
   "source": [
    "#built hist by date\n",
    "grouped_data = data_startup.groupby(['event_name', 'datetime','exp_id']).count().reset_index()\n",
    "plt.title(\"Гистограмма распределения количества событий по группе 246\")\n",
    "plt.xlabel(\"дата (гг.мм.дд)\")\n",
    "plt.ylabel(\"количество событий\")\n",
    "plt.xticks(rotation=90)\n",
    "grouped_data[grouped_data.exp_id == 246].datetime.hist(bins = 100)\n",
    "plt.show()\n",
    "plt.title(\"Гистограмма распределения количества событий по группе 247\")\n",
    "plt.xlabel(\"дата (гг.мм.дд)\")\n",
    "plt.ylabel(\"количество событий\")\n",
    "plt.xticks(rotation=90)\n",
    "grouped_data[grouped_data.exp_id == 247].datetime.hist(bins = 100)\n",
    "plt.show()\n",
    "plt.title(\"Гистограмма распределения количества событий по группе 248\")\n",
    "plt.xlabel(\"дата (гг.мм.дд)\")\n",
    "plt.ylabel(\"количество событий\")\n",
    "plt.xticks(rotation=90)\n",
    "grouped_data[grouped_data.exp_id == 248].datetime.hist(bins = 100)\n",
    "plt.show()\n"
   ]
  },
  {
   "cell_type": "markdown",
   "metadata": {},
   "source": [
    "Данные гистограммы свидетельствуют о том, что данные по 3 тестируемым группам (A/A1/B) стали накапливаться с 31 июля. Поэтому мы отбросим данные до 1 августа и далее будем анализировать датасет в разрезе периода 1.08.2019-7.08.2019.  Фактически теперь мы располагаем данными за 1 неделю (что недостаточно для остановки и выводов по тесту)."
   ]
  },
  {
   "cell_type": "code",
   "execution_count": 47,
   "metadata": {},
   "outputs": [],
   "source": [
    "# we choose 1st August as starting point of our experiment\n",
    "actual_data = data_startup[data_startup.datetime >= '2019-08-01']"
   ]
  },
  {
   "cell_type": "markdown",
   "metadata": {},
   "source": [
    "Выясним, какое количество пользователей мы потеряли, отбросив старые данные "
   ]
  },
  {
   "cell_type": "code",
   "execution_count": 48,
   "metadata": {},
   "outputs": [
    {
     "name": "stdout",
     "output_type": "stream",
     "text": [
      "Number of users we remove: 1451\n"
     ]
    }
   ],
   "source": [
    "#check persentage of removing data\n",
    "old_data = data_startup[data_startup.datetime < '2019-08-01']\n",
    "removed_users = old_data.device_id_hash.nunique()\n",
    "print('Number of users we remove: {}'.format(removed_users))\n"
   ]
  },
  {
   "cell_type": "markdown",
   "metadata": {},
   "source": [
    "В данных по пользователям мы потеряли 1451 уник, однако можно предположить, что эти пользователи возвращались в приложение уже в актуальных для нас период. Проверим нашу гипотезу методом intersection:"
   ]
  },
  {
   "cell_type": "code",
   "execution_count": 49,
   "metadata": {},
   "outputs": [
    {
     "data": {
      "text/plain": [
       "1434"
      ]
     },
     "execution_count": 49,
     "metadata": {},
     "output_type": "execute_result"
    }
   ],
   "source": [
    "intersection_old_actual = len(set(old_data.device_id_hash.unique()).intersection(set(actual_data.device_id_hash.unique())))\n",
    "intersection_old_actual"
   ]
  },
  {
   "cell_type": "markdown",
   "metadata": {},
   "source": [
    "Как мы видим 1434 уника находятся обьединены по двум датасетам, то есть 1434 уника из старых данных есть и в нашем актуальном датасете. Найдем количество пользователей, которых мы удалили из датасета, и которые не вернулись в приложение в актуальный период:"
   ]
  },
  {
   "cell_type": "code",
   "execution_count": 50,
   "metadata": {},
   "outputs": [
    {
     "name": "stdout",
     "output_type": "stream",
     "text": [
      "Number of actual removed users: 17\n"
     ]
    }
   ],
   "source": [
    "actual_removed_users = removed_users- intersection_old_actual\n",
    "print('Number of actual removed users: {}'.format(actual_removed_users))"
   ]
  },
  {
   "cell_type": "markdown",
   "metadata": {},
   "source": [
    "Найдем, сколько событий мы потеряли, отбросив старые данные:"
   ]
  },
  {
   "cell_type": "code",
   "execution_count": 51,
   "metadata": {},
   "outputs": [
    {
     "name": "stdout",
     "output_type": "stream",
     "text": [
      "Number of event we remove: 2826\n",
      "Percentage of events we remove: 1%\n"
     ]
    }
   ],
   "source": [
    "removed_events = old_data.event_name.value_counts().sum()\n",
    "total_events = data_startup.event_name.value_counts().sum()\n",
    "print('Number of event we remove: {}'.format(removed_events))\n",
    "print('Percentage of events we remove: {:.0%}'.format(removed_events / total_events))"
   ]
  },
  {
   "cell_type": "markdown",
   "metadata": {},
   "source": [
    "Отбросив старые данные мы потеряли 17 пользователей, что составляет менее 1% от общего количества пользователей, и 2826 событий, что составляет 1% от всех событий"
   ]
  },
  {
   "cell_type": "markdown",
   "metadata": {},
   "source": [
    "Проверим, остались ли пользователи за по актуальный период во всех 3 группах:"
   ]
  },
  {
   "cell_type": "code",
   "execution_count": 52,
   "metadata": {},
   "outputs": [
    {
     "data": {
      "text/html": [
       "<div>\n",
       "<style scoped>\n",
       "    .dataframe tbody tr th:only-of-type {\n",
       "        vertical-align: middle;\n",
       "    }\n",
       "\n",
       "    .dataframe tbody tr th {\n",
       "        vertical-align: top;\n",
       "    }\n",
       "\n",
       "    .dataframe thead th {\n",
       "        text-align: right;\n",
       "    }\n",
       "</style>\n",
       "<table border=\"1\" class=\"dataframe\">\n",
       "  <thead>\n",
       "    <tr style=\"text-align: right;\">\n",
       "      <th></th>\n",
       "      <th>number_of_users</th>\n",
       "    </tr>\n",
       "    <tr>\n",
       "      <th>exp_id</th>\n",
       "      <th></th>\n",
       "    </tr>\n",
       "  </thead>\n",
       "  <tbody>\n",
       "    <tr>\n",
       "      <td>246</td>\n",
       "      <td>2484</td>\n",
       "    </tr>\n",
       "    <tr>\n",
       "      <td>247</td>\n",
       "      <td>2513</td>\n",
       "    </tr>\n",
       "    <tr>\n",
       "      <td>248</td>\n",
       "      <td>2537</td>\n",
       "    </tr>\n",
       "  </tbody>\n",
       "</table>\n",
       "</div>"
      ],
      "text/plain": [
       "        number_of_users\n",
       "exp_id                 \n",
       "246                2484\n",
       "247                2513\n",
       "248                2537"
      ]
     },
     "execution_count": 52,
     "metadata": {},
     "output_type": "execute_result"
    }
   ],
   "source": [
    "actual_users_count = actual_data.groupby('exp_id').agg({'device_id_hash':'nunique'})\n",
    "actual_users_count.columns = ['number_of_users']\n",
    "actual_users_count"
   ]
  },
  {
   "cell_type": "markdown",
   "metadata": {},
   "source": [
    "### Вывод"
   ]
  },
  {
   "cell_type": "markdown",
   "metadata": {},
   "source": [
    "В данном шаге мы разобрались с количественными значениями по нашим ключевым метрикам: узнали, что в нашем датасете 7551 уникальных пользователя и 243713 событий, также рассчитали, что среднее количество событий на пользователя (~32) и извлекли актуальный срез данных по датасету (с 1 по 7 августа 2019). Далее изучим более детально воронку по ключевым событиям пользователей"
   ]
  },
  {
   "cell_type": "markdown",
   "metadata": {},
   "source": [
    "<a id=\"funnel_analysis\"></a>\n",
    "### Шаг 4. Изучите воронку событий\n"
   ]
  },
  {
   "cell_type": "markdown",
   "metadata": {},
   "source": [
    "<a id=\"check_unique_event\"></a>\n",
    "Посмотрим, какие события есть в логах и как часто они встречаются:"
   ]
  },
  {
   "cell_type": "code",
   "execution_count": 53,
   "metadata": {},
   "outputs": [
    {
     "data": {
      "text/plain": [
       "MainScreenAppear           117328\n",
       "OffersScreenAppear          46333\n",
       "CartScreenAppear            42303\n",
       "PaymentScreenSuccessful     33918\n",
       "Tutorial                     1005\n",
       "Name: event_name, dtype: int64"
      ]
     },
     "execution_count": 53,
     "metadata": {},
     "output_type": "execute_result"
    }
   ],
   "source": [
    "#extract unique events\n",
    "actual_data.event_name.value_counts()"
   ]
  },
  {
   "cell_type": "markdown",
   "metadata": {},
   "source": [
    "<a id=\"funnel_event_order\"></a>\n",
    "\n",
    "Наиболее частотное событие MainScreenAppear, можем предположить, что как только пользователь заходит в приложение он видит главный экран, далее идет событие с предложениями товаров OffersScreenAppear, далее переход в корзину CartScreenAppear, и, наконец, событие с оплатой PaymentScreenSuccessful. Tutorial можно рассматрививать не в контексте воронки , так как это обучающие материалы по приложению, в случае возникновения трудностей с юзабилити приложения"
   ]
  },
  {
   "cell_type": "markdown",
   "metadata": {},
   "source": [
    "<a id=\"number_of_user_by_event\"></a>\n",
    "Посчитаем, сколько пользователей совершали каждое из этих событий, а также посчитаем долю пользователей, которые хоть раз совершали событие."
   ]
  },
  {
   "cell_type": "code",
   "execution_count": 54,
   "metadata": {},
   "outputs": [
    {
     "data": {
      "text/html": [
       "<div>\n",
       "<style scoped>\n",
       "    .dataframe tbody tr th:only-of-type {\n",
       "        vertical-align: middle;\n",
       "    }\n",
       "\n",
       "    .dataframe tbody tr th {\n",
       "        vertical-align: top;\n",
       "    }\n",
       "\n",
       "    .dataframe thead th {\n",
       "        text-align: right;\n",
       "    }\n",
       "</style>\n",
       "<table border=\"1\" class=\"dataframe\">\n",
       "  <thead>\n",
       "    <tr style=\"text-align: right;\">\n",
       "      <th></th>\n",
       "      <th>device_id_hash</th>\n",
       "    </tr>\n",
       "    <tr>\n",
       "      <th>event_name</th>\n",
       "      <th></th>\n",
       "    </tr>\n",
       "  </thead>\n",
       "  <tbody>\n",
       "    <tr>\n",
       "      <td>MainScreenAppear</td>\n",
       "      <td>7419</td>\n",
       "    </tr>\n",
       "    <tr>\n",
       "      <td>OffersScreenAppear</td>\n",
       "      <td>4593</td>\n",
       "    </tr>\n",
       "    <tr>\n",
       "      <td>CartScreenAppear</td>\n",
       "      <td>3734</td>\n",
       "    </tr>\n",
       "    <tr>\n",
       "      <td>PaymentScreenSuccessful</td>\n",
       "      <td>3539</td>\n",
       "    </tr>\n",
       "    <tr>\n",
       "      <td>Tutorial</td>\n",
       "      <td>840</td>\n",
       "    </tr>\n",
       "  </tbody>\n",
       "</table>\n",
       "</div>"
      ],
      "text/plain": [
       "                         device_id_hash\n",
       "event_name                             \n",
       "MainScreenAppear                   7419\n",
       "OffersScreenAppear                 4593\n",
       "CartScreenAppear                   3734\n",
       "PaymentScreenSuccessful            3539\n",
       "Tutorial                            840"
      ]
     },
     "execution_count": 54,
     "metadata": {},
     "output_type": "execute_result"
    }
   ],
   "source": [
    "#count number of users by event\n",
    "event_funnel_by_user = actual_data.groupby('event_name').agg({'device_id_hash':'nunique'}).sort_values(by='device_id_hash', ascending=False)\n",
    "event_funnel_by_user"
   ]
  },
  {
   "cell_type": "code",
   "execution_count": 55,
   "metadata": {},
   "outputs": [
    {
     "data": {
      "text/html": [
       "<div>\n",
       "<style scoped>\n",
       "    .dataframe tbody tr th:only-of-type {\n",
       "        vertical-align: middle;\n",
       "    }\n",
       "\n",
       "    .dataframe tbody tr th {\n",
       "        vertical-align: top;\n",
       "    }\n",
       "\n",
       "    .dataframe thead th {\n",
       "        text-align: right;\n",
       "    }\n",
       "</style>\n",
       "<table border=\"1\" class=\"dataframe\">\n",
       "  <thead>\n",
       "    <tr style=\"text-align: right;\">\n",
       "      <th></th>\n",
       "      <th>device_id_hash</th>\n",
       "      <th>percentage</th>\n",
       "    </tr>\n",
       "    <tr>\n",
       "      <th>event_name</th>\n",
       "      <th></th>\n",
       "      <th></th>\n",
       "    </tr>\n",
       "  </thead>\n",
       "  <tbody>\n",
       "    <tr>\n",
       "      <td>MainScreenAppear</td>\n",
       "      <td>7419</td>\n",
       "      <td>0.984736</td>\n",
       "    </tr>\n",
       "    <tr>\n",
       "      <td>OffersScreenAppear</td>\n",
       "      <td>4593</td>\n",
       "      <td>0.609636</td>\n",
       "    </tr>\n",
       "    <tr>\n",
       "      <td>CartScreenAppear</td>\n",
       "      <td>3734</td>\n",
       "      <td>0.495620</td>\n",
       "    </tr>\n",
       "    <tr>\n",
       "      <td>PaymentScreenSuccessful</td>\n",
       "      <td>3539</td>\n",
       "      <td>0.469737</td>\n",
       "    </tr>\n",
       "    <tr>\n",
       "      <td>Tutorial</td>\n",
       "      <td>840</td>\n",
       "      <td>0.111495</td>\n",
       "    </tr>\n",
       "  </tbody>\n",
       "</table>\n",
       "</div>"
      ],
      "text/plain": [
       "                         device_id_hash  percentage\n",
       "event_name                                         \n",
       "MainScreenAppear                   7419    0.984736\n",
       "OffersScreenAppear                 4593    0.609636\n",
       "CartScreenAppear                   3734    0.495620\n",
       "PaymentScreenSuccessful            3539    0.469737\n",
       "Tutorial                            840    0.111495"
      ]
     },
     "execution_count": 55,
     "metadata": {},
     "output_type": "execute_result"
    }
   ],
   "source": [
    "#count total users and count share by each event \n",
    "total_actual_user = actual_data.device_id_hash.nunique()\n",
    "event_funnel_by_user['percentage'] = event_funnel_by_user.device_id_hash / total_actual_user\n",
    "event_funnel_by_user"
   ]
  },
  {
   "cell_type": "markdown",
   "metadata": {},
   "source": [
    "Как мы видим 98% видели главный экран и около 2% по каким-либо причинам запустили приложение, но не воспользовались им. 60% процентов пользователей дошли до события с предложениями товаров, почти 50% пользователей дошло до оформления корзины и 46% до оплаты"
   ]
  },
  {
   "cell_type": "markdown",
   "metadata": {},
   "source": [
    "<a id=\"count_percent_from_previous\"></a>\n",
    "\n",
    "По воронке событий посчитаем, какая доля пользователей проходит на следующий шаг воронки от числа пользователей на предыдущем, предварительно исключив из последовательности воронки событие Tutorial."
   ]
  },
  {
   "cell_type": "code",
   "execution_count": 56,
   "metadata": {},
   "outputs": [
    {
     "data": {
      "text/html": [
       "<div>\n",
       "<style scoped>\n",
       "    .dataframe tbody tr th:only-of-type {\n",
       "        vertical-align: middle;\n",
       "    }\n",
       "\n",
       "    .dataframe tbody tr th {\n",
       "        vertical-align: top;\n",
       "    }\n",
       "\n",
       "    .dataframe thead th {\n",
       "        text-align: right;\n",
       "    }\n",
       "</style>\n",
       "<table border=\"1\" class=\"dataframe\">\n",
       "  <thead>\n",
       "    <tr style=\"text-align: right;\">\n",
       "      <th></th>\n",
       "      <th>event_name</th>\n",
       "      <th>device_id_hash</th>\n",
       "      <th>percentage</th>\n",
       "      <th>percent_from_previous</th>\n",
       "    </tr>\n",
       "  </thead>\n",
       "  <tbody>\n",
       "    <tr>\n",
       "      <td>0</td>\n",
       "      <td>MainScreenAppear</td>\n",
       "      <td>7419</td>\n",
       "      <td>0.984736</td>\n",
       "      <td>NaN</td>\n",
       "    </tr>\n",
       "    <tr>\n",
       "      <td>1</td>\n",
       "      <td>OffersScreenAppear</td>\n",
       "      <td>4593</td>\n",
       "      <td>0.609636</td>\n",
       "      <td>0.619086</td>\n",
       "    </tr>\n",
       "    <tr>\n",
       "      <td>2</td>\n",
       "      <td>CartScreenAppear</td>\n",
       "      <td>3734</td>\n",
       "      <td>0.495620</td>\n",
       "      <td>0.812976</td>\n",
       "    </tr>\n",
       "    <tr>\n",
       "      <td>3</td>\n",
       "      <td>PaymentScreenSuccessful</td>\n",
       "      <td>3539</td>\n",
       "      <td>0.469737</td>\n",
       "      <td>0.947777</td>\n",
       "    </tr>\n",
       "  </tbody>\n",
       "</table>\n",
       "</div>"
      ],
      "text/plain": [
       "                event_name  device_id_hash  percentage  percent_from_previous\n",
       "0         MainScreenAppear            7419    0.984736                    NaN\n",
       "1       OffersScreenAppear            4593    0.609636               0.619086\n",
       "2         CartScreenAppear            3734    0.495620               0.812976\n",
       "3  PaymentScreenSuccessful            3539    0.469737               0.947777"
      ]
     },
     "execution_count": 56,
     "metadata": {},
     "output_type": "execute_result"
    }
   ],
   "source": [
    "#remove tutorial from funnel\n",
    "#count share from previous event\n",
    "event_funnel_by_user = event_funnel_by_user.reset_index()\n",
    "event_funnel_by_user = event_funnel_by_user[event_funnel_by_user.event_name != 'Tutorial']\n",
    "event_funnel_by_user['percent_from_previous'] = event_funnel_by_user.device_id_hash / event_funnel_by_user.device_id_hash.shift(1)\n",
    "event_funnel_by_user"
   ]
  },
  {
   "cell_type": "markdown",
   "metadata": {},
   "source": [
    "<a id=\"check_churn\"></a>\n",
    "\n",
    "Как мы видим на шаге 1 - после главного экрана переход на предложения по продуктам, теряется около 40% пользователей, причиной могут быть проблемы с юзабилити или в визуальном оформлении интерфейса"
   ]
  },
  {
   "cell_type": "markdown",
   "metadata": {},
   "source": [
    "<a id=\"count_cr\"></a>\n",
    "Посчитаем, какая доля пользователей доходит от первого события до оплаты, то есть до конечного целевого действия"
   ]
  },
  {
   "cell_type": "code",
   "execution_count": 57,
   "metadata": {},
   "outputs": [
    {
     "name": "stdout",
     "output_type": "stream",
     "text": [
      "Convertion rate: 47.7%\n"
     ]
    }
   ],
   "source": [
    "#count share of users who achieved payment from first event  \n",
    "convertion_rate = event_funnel_by_user.loc[3,'device_id_hash'] / event_funnel_by_user.loc[0,'device_id_hash']\n",
    "print('Convertion rate: {:.1%}'.format(convertion_rate))"
   ]
  },
  {
   "cell_type": "markdown",
   "metadata": {},
   "source": [
    "Чуть меньше 50% пользователей совершили покупку в приложении от всех пользователей, вошедших в приложение."
   ]
  },
  {
   "cell_type": "markdown",
   "metadata": {},
   "source": [
    "### Вывод"
   ]
  },
  {
   "cell_type": "markdown",
   "metadata": {},
   "source": [
    "В данном шаге мы исследовали пути пользователей по ключевым событиям. Нам удалось выяснить, что основная воронка событий состоит из просмотра главного экрана, затем пользователи переходят на экран с предложениями продуктов, далее переходят в корзину, оформляют и оплачивают заказ. Помимо этого в приложении есть гайд (туториал) по юзабилити приложения, однако им воспользовались только 11% пользователей. Основной отток(~40%) происходит при переходе пользователей с главного экрана на экран с предложениями товаров, причиной могут быть проблемы с юзабилити или в целом в визуальном оформлении интерфейса. Далее изучим данные по тестовым группам и выясним повлияли ли изменения в дизайне шрифтов на поведение пользователей"
   ]
  },
  {
   "cell_type": "markdown",
   "metadata": {},
   "source": [
    "<a id=\"test_analysis\"></a>\n",
    "### Шаг 5. Изучите результаты эксперимента"
   ]
  },
  {
   "cell_type": "markdown",
   "metadata": {},
   "source": [
    "<a id=\"count_users_per_test_group\"></a>\n",
    "Найдем количество пользователей в каждой контрольной группе:"
   ]
  },
  {
   "cell_type": "code",
   "execution_count": 58,
   "metadata": {},
   "outputs": [
    {
     "data": {
      "text/html": [
       "<div>\n",
       "<style scoped>\n",
       "    .dataframe tbody tr th:only-of-type {\n",
       "        vertical-align: middle;\n",
       "    }\n",
       "\n",
       "    .dataframe tbody tr th {\n",
       "        vertical-align: top;\n",
       "    }\n",
       "\n",
       "    .dataframe thead th {\n",
       "        text-align: right;\n",
       "    }\n",
       "</style>\n",
       "<table border=\"1\" class=\"dataframe\">\n",
       "  <thead>\n",
       "    <tr style=\"text-align: right;\">\n",
       "      <th></th>\n",
       "      <th>device_id_hash</th>\n",
       "    </tr>\n",
       "    <tr>\n",
       "      <th>exp_id</th>\n",
       "      <th></th>\n",
       "    </tr>\n",
       "  </thead>\n",
       "  <tbody>\n",
       "    <tr>\n",
       "      <td>246</td>\n",
       "      <td>2484</td>\n",
       "    </tr>\n",
       "    <tr>\n",
       "      <td>247</td>\n",
       "      <td>2513</td>\n",
       "    </tr>\n",
       "    <tr>\n",
       "      <td>248</td>\n",
       "      <td>2537</td>\n",
       "    </tr>\n",
       "  </tbody>\n",
       "</table>\n",
       "</div>"
      ],
      "text/plain": [
       "        device_id_hash\n",
       "exp_id                \n",
       "246               2484\n",
       "247               2513\n",
       "248               2537"
      ]
     },
     "execution_count": 58,
     "metadata": {},
     "output_type": "execute_result"
    }
   ],
   "source": [
    "# count number of users by each group\n",
    "users_in_group = actual_data.groupby('exp_id').agg({'device_id_hash':'nunique'})\n",
    "users_in_group"
   ]
  },
  {
   "cell_type": "code",
   "execution_count": 59,
   "metadata": {
    "scrolled": true
   },
   "outputs": [],
   "source": [
    "#extract each group in separate table \n",
    "users_246_group = actual_data[actual_data.exp_id == 246]\n",
    "users_247_group = actual_data[actual_data.exp_id == 247]\n",
    "users_248_group = actual_data[actual_data.exp_id == 248]"
   ]
  },
  {
   "cell_type": "markdown",
   "metadata": {},
   "source": [
    "<a id=\"stat_differance_between_246_247\"></a>\n",
    "\n",
    "Пользователи распределены равномерно по трем группам.Однако прежде чем анализировать A/B тест, проверим выборки A и A1 на статистическую разницу в данных. Для этого узнаем соответсвуют ли выборки следующим критериям:\n",
    " - Количество пользователей в различных группах различается не более, чем на 1%;\n",
    " - Различие ключевых метрик по группам не превышает 1% и не имеет статистической значимости;\n",
    " - Попавший в одну из групп посетитель остаётся в этой группе до конца теста."
   ]
  },
  {
   "cell_type": "code",
   "execution_count": 60,
   "metadata": {},
   "outputs": [
    {
     "name": "stdout",
     "output_type": "stream",
     "text": [
      "Difference percentage between group 246 and group 247: 0.3%\n"
     ]
    }
   ],
   "source": [
    "# check differance between group\n",
    "count_user_246 = users_246_group.device_id_hash.nunique()\n",
    "count_user_247 = users_247_group.device_id_hash.nunique()\n",
    "\n",
    "difference = abs(count_user_246 - count_user_247) / (count_user_246 + count_user_247) / 2\n",
    "print('Difference percentage between group 246 and group 247: {:.1%}'.format(difference))"
   ]
  },
  {
   "cell_type": "markdown",
   "metadata": {},
   "source": [
    "Статистическая разница в пределах нормы: количество пользователей в по двух контрольным группам различается не более, чем на 1%\n"
   ]
  },
  {
   "cell_type": "markdown",
   "metadata": {},
   "source": [
    "Проверим, через метод intersection, что попавший в одну из групп посетитель остаётся в этой группе до конца теста."
   ]
  },
  {
   "cell_type": "code",
   "execution_count": 61,
   "metadata": {},
   "outputs": [
    {
     "name": "stdout",
     "output_type": "stream",
     "text": [
      "Common user count between group 246 and group 247: 0\n"
     ]
    }
   ],
   "source": [
    "intersection = len(set(users_246_group.device_id_hash.unique()).intersection(set(users_247_group.device_id_hash.unique())))\n",
    "print('Common user count between group 246 and group 247: {}'.format(intersection))"
   ]
  },
  {
   "cell_type": "markdown",
   "metadata": {},
   "source": [
    "Пользователей, которые входят в обе группы 0, следовательно можем сделать вывод, что пользователи не пересекаются по двум группам"
   ]
  },
  {
   "cell_type": "markdown",
   "metadata": {},
   "source": [
    "Проверим, являются ли данные по двум контрольным группам A и A1 по самому популярному событию - MainScreenAppear статистически достоверными."
   ]
  },
  {
   "cell_type": "code",
   "execution_count": 62,
   "metadata": {},
   "outputs": [
    {
     "name": "stdout",
     "output_type": "stream",
     "text": [
      "Difference percentage between group 246 and group 247 in key metric: 0.9%\n"
     ]
    }
   ],
   "source": [
    "count_key_metric_246 = len(users_246_group[users_246_group.event_name =='MainScreenAppear'])\n",
    "count_key_metric_247 = len(users_247_group[users_247_group.event_name =='MainScreenAppear'])\n",
    "\n",
    "difference = abs(count_key_metric_246 - count_key_metric_247) / (count_key_metric_246 + count_key_metric_247) / 2\n",
    "print('Difference percentage between group 246 and group 247 in key metric: {:.1%}'.format(difference))"
   ]
  },
  {
   "cell_type": "markdown",
   "metadata": {},
   "source": [
    "Различие ключевых метрик по группам не превышает 1% "
   ]
  },
  {
   "cell_type": "markdown",
   "metadata": {},
   "source": [
    "<a id=\"check_stat_differance_between_group_by_event\"></a>\n",
    "Напишем функцию, с помощью которой будем рассчитывать долю пользователей совершивших каждое событие по всем событиям воронки и проверять наличие статистической разницы между группами. Для сравнения доли пользователей совершивших событие от общего количества пользователей по группам будем использовать z тест. В качестве альфы примем общепринятое пороговое значение — 5%"
   ]
  },
  {
   "cell_type": "code",
   "execution_count": 63,
   "metadata": {},
   "outputs": [],
   "source": [
    "def calculate_statistical_difference(event_name, group1, group2):\n",
    "    key_event_users_1 = group1[group1.event_name == event_name]\n",
    "    key_event_users_2 = group2[group2.event_name == event_name]\n",
    "    key_metric_user_count_1 = key_event_users_1.device_id_hash.nunique()\n",
    "    key_metric_user_count_2 = key_event_users_2.device_id_hash.nunique()\n",
    "    total_users_1 = group1.device_id_hash.nunique()\n",
    "    total_users_2 = group2.device_id_hash.nunique()\n",
    "    alpha = .05 # критический уровень статистической значимости\n",
    "\n",
    "    successes = np.array([key_metric_user_count_1, key_metric_user_count_2])\n",
    "    trials = np.array([total_users_1, total_users_2])\n",
    "\n",
    "    # пропорция успехов в первой группе:\n",
    "    p1 = successes[0]/trials[0]\n",
    "\n",
    "    # пропорция успехов во второй группе:\n",
    "    p2 = successes[1]/trials[1]\n",
    "\n",
    "    # пропорция успехов в комбинированном датасете:\n",
    "    p_combined = (successes[0] + successes[1]) / (trials[0] + trials[1])\n",
    "\n",
    "    # разница пропорций в датасетах\n",
    "    difference = p1 - p2\n",
    "    # считаем статистику в ст.отклонениях стандартного нормального распределения\n",
    "    z_value = difference / mth.sqrt(p_combined * (1 - p_combined) * (1/trials[0] + 1/trials[1]))\n",
    "\n",
    "    # задаем стандартное нормальное распределение (среднее 0, ст.отклонение 1)\n",
    "    distr = st.norm(0, 1) \n",
    "    z_value = difference / mth.sqrt(p_combined * (1 - p_combined) * (1/trials[0] + 1/trials[1]))\n",
    "\n",
    "    # задаем стандартное нормальное распределение (среднее 0, ст.отклонение 1)\n",
    "    distr = st.norm(0, 1) \n",
    "\n",
    "    p_value = (1 - distr.cdf(abs(z_value))) * 2\n",
    "\n",
    "    print('p-значение: ', p_value)\n",
    "\n",
    "    if (p_value < alpha):\n",
    "        print(\"Отвергаем нулевую гипотезу: между долями есть значимая разница\")\n",
    "    else:\n",
    "        print(\"Не получилось отвергнуть нулевую гипотезу, нет оснований считать доли разными\")\n",
    "\n"
   ]
  },
  {
   "cell_type": "markdown",
   "metadata": {},
   "source": [
    "Проверим гипотезу по каждому уникальному событию: MainScreenAppear, OffersScreenAppear, CartScreenAppear, PaymentScreenSuccessful - о том, что доля пользователей, совершивших событие (от всех пользователей) в приложении по группе A, равна доле пользователей совершивших аналогичное событие по контрольной группе A1.\n",
    "\n",
    "Нулевая гипотеза: Доля пользователей, совершивших событие в группе 246, не отличается от доли пользователей совершивших аналогичное событие в группе 247 (нет статистической значимой разницы).\n",
    "\n",
    "Альтернативная гипотеза H₁: Доля пользователей, cовершивших событие в группе 246, отличается от доли пользователей совершивших аналогичное событие в группе 247 (есть статистически значимая разница)"
   ]
  },
  {
   "cell_type": "code",
   "execution_count": 64,
   "metadata": {},
   "outputs": [
    {
     "name": "stdout",
     "output_type": "stream",
     "text": [
      "p-значение:  0.7570597232046099\n",
      "Не получилось отвергнуть нулевую гипотезу, нет оснований считать доли разными\n",
      "p-значение:  0.2480954578522181\n",
      "Не получилось отвергнуть нулевую гипотезу, нет оснований считать доли разными\n",
      "p-значение:  0.22883372237997213\n",
      "Не получилось отвергнуть нулевую гипотезу, нет оснований считать доли разными\n",
      "p-значение:  0.11456679313141849\n",
      "Не получилось отвергнуть нулевую гипотезу, нет оснований считать доли разными\n"
     ]
    }
   ],
   "source": [
    "calculate_statistical_difference('MainScreenAppear', users_246_group, users_247_group)\n",
    "calculate_statistical_difference('OffersScreenAppear', users_246_group, users_247_group)\n",
    "calculate_statistical_difference('CartScreenAppear', users_246_group, users_247_group)\n",
    "calculate_statistical_difference('PaymentScreenSuccessful', users_246_group, users_247_group)"
   ]
  },
  {
   "cell_type": "markdown",
   "metadata": {},
   "source": [
    "Мы видим, по контрольным группам A и A1 по всем событиям нет разницы в долях, т.е мы можем считать, что в выборках статистически значимого различия нет"
   ]
  },
  {
   "cell_type": "markdown",
   "metadata": {},
   "source": [
    "Проверим гипотезу по каждому уникальному событию: MainScreenAppear, OffersScreenAppear, CartScreenAppear, PaymentScreenSuccessful - о том, что доля пользователей, совершивших событие (от всех пользователей) в приложении по группе A, равна доле пользователей совершивших аналогичное событие по контрольной группе B.\n",
    "\n",
    "Нулевая гипотеза: Доля пользователей, совершивших событие в группе 246, не отличается от доли пользователей совершивших аналогичное событие в группе 248 (нет статистической значимой разницы).\n",
    "\n",
    "Альтернативная гипотеза H₁: Доля пользователей, cовершивших событие в группе 246, отличается от доли пользователей совершивших аналогичное событие в группе 248 (есть статистически значимая разница)"
   ]
  },
  {
   "cell_type": "code",
   "execution_count": 65,
   "metadata": {},
   "outputs": [
    {
     "name": "stdout",
     "output_type": "stream",
     "text": [
      "p-значение:  0.2949721933554552\n",
      "Не получилось отвергнуть нулевую гипотезу, нет оснований считать доли разными\n",
      "p-значение:  0.20836205402738917\n",
      "Не получилось отвергнуть нулевую гипотезу, нет оснований считать доли разными\n",
      "p-значение:  0.07842923237520116\n",
      "Не получилось отвергнуть нулевую гипотезу, нет оснований считать доли разными\n",
      "p-значение:  0.2122553275697796\n",
      "Не получилось отвергнуть нулевую гипотезу, нет оснований считать доли разными\n"
     ]
    }
   ],
   "source": [
    "calculate_statistical_difference('MainScreenAppear', users_246_group, users_248_group)\n",
    "calculate_statistical_difference('OffersScreenAppear', users_246_group, users_248_group)\n",
    "calculate_statistical_difference('CartScreenAppear', users_246_group, users_248_group)\n",
    "calculate_statistical_difference('PaymentScreenSuccessful', users_246_group, users_248_group)"
   ]
  },
  {
   "cell_type": "markdown",
   "metadata": {},
   "source": [
    "Проверим гипотезу по каждому уникальному событию: MainScreenAppear, OffersScreenAppear, CartScreenAppear, PaymentScreenSuccessful - о том, что доля пользователей, совершивших событие (от всех пользователей) в приложении по группе A1, равна доле пользователей совершивших аналогичное событие по контрольной группе B.\n",
    "\n",
    "Нулевая гипотеза: Доля пользователей, совершивших событие в группе 247, не отличается от доли пользователей совершивших аналогичное событие в группе 248 (нет статистической значимой разницы).\n",
    "\n",
    "Альтернативная гипотеза H₁: Доля пользователей, cовершивших событие в группе 247, отличается от доли пользователей совершивших аналогичное событие в группе 248 (есть статистически значимая разница)"
   ]
  },
  {
   "cell_type": "code",
   "execution_count": 66,
   "metadata": {},
   "outputs": [
    {
     "name": "stdout",
     "output_type": "stream",
     "text": [
      "p-значение:  0.4587053616621515\n",
      "Не получилось отвергнуть нулевую гипотезу, нет оснований считать доли разными\n",
      "p-значение:  0.9197817830592261\n",
      "Не получилось отвергнуть нулевую гипотезу, нет оснований считать доли разными\n",
      "p-значение:  0.5786197879539783\n",
      "Не получилось отвергнуть нулевую гипотезу, нет оснований считать доли разными\n",
      "p-значение:  0.7373415053803964\n",
      "Не получилось отвергнуть нулевую гипотезу, нет оснований считать доли разными\n"
     ]
    }
   ],
   "source": [
    "calculate_statistical_difference('MainScreenAppear', users_247_group, users_248_group)\n",
    "calculate_statistical_difference('OffersScreenAppear', users_247_group, users_248_group)\n",
    "calculate_statistical_difference('CartScreenAppear', users_247_group, users_248_group)\n",
    "calculate_statistical_difference('PaymentScreenSuccessful', users_247_group, users_248_group) "
   ]
  },
  {
   "cell_type": "markdown",
   "metadata": {},
   "source": [
    "Сравнение по контрольным группам A и A1 c B показало, что статистически значимых различий между группами по всем событиям воронки нет однако анализируемые данные затрагивают только недельный период"
   ]
  },
  {
   "cell_type": "markdown",
   "metadata": {},
   "source": [
    "Проверим гипотезу по каждому уникальному событию: MainScreenAppear, OffersScreenAppear, CartScreenAppear, PaymentScreenSuccessful - о том, что доля пользователей, совершивших событие (от всех пользователей) в приложении в объединенной контрольной группе (A и A1), равна доле пользователей совершивших аналогичное событие по контрольной группе B.\n",
    "\n",
    "Нулевая гипотеза: Доля пользователей, совершивших событие в объединенной группе (246 и 247), не отличается от доли пользователей совершивших аналогичное событие в группе 248 (нет статистической значимой разницы).\n",
    "\n",
    "Альтернативная гипотеза H₁: Доля пользователей, cовершивших событие в объединенной группе (246 и 247), отличается от доли пользователей совершивших аналогичное событие в группе 248 (есть статистически значимая разница))"
   ]
  },
  {
   "cell_type": "code",
   "execution_count": 67,
   "metadata": {},
   "outputs": [],
   "source": [
    "merge_control_group = actual_data[actual_data.exp_id != 248]"
   ]
  },
  {
   "cell_type": "code",
   "execution_count": 68,
   "metadata": {},
   "outputs": [
    {
     "name": "stdout",
     "output_type": "stream",
     "text": [
      "p-значение:  0.29424526837179577\n",
      "Не получилось отвергнуть нулевую гипотезу, нет оснований считать доли разными\n",
      "p-значение:  0.43425549655188256\n",
      "Не получилось отвергнуть нулевую гипотезу, нет оснований считать доли разными\n",
      "p-значение:  0.18175875284404386\n",
      "Не получилось отвергнуть нулевую гипотезу, нет оснований считать доли разными\n",
      "p-значение:  0.6004294282308704\n",
      "Не получилось отвергнуть нулевую гипотезу, нет оснований считать доли разными\n"
     ]
    }
   ],
   "source": [
    "calculate_statistical_difference('MainScreenAppear', merge_control_group, users_248_group)\n",
    "calculate_statistical_difference('OffersScreenAppear', merge_control_group, users_248_group)\n",
    "calculate_statistical_difference('CartScreenAppear', merge_control_group, users_248_group)\n",
    "calculate_statistical_difference('PaymentScreenSuccessful', merge_control_group, users_248_group) "
   ]
  },
  {
   "cell_type": "markdown",
   "metadata": {},
   "source": [
    "Объединенные данные по контрольным группам  A и A1 в сравнении с контрольной группой B также не показали статистической значимой разницы в долях пользователей по каждому событию от общего количества пользователей. "
   ]
  },
  {
   "cell_type": "markdown",
   "metadata": {},
   "source": [
    "Суммарно было проведено 16 проверок статистических гипотез: 4 гипотезы о равенстве долей по каждому событию между двумя контрольными группами A и A1; 4 гипотезы о равенстве долей по каждому событию между двумя группами A и B; 4 гипотезы о равенстве долей по каждому событию между двумя группами A1 и B; и 4 гипотезы о равенстве долей по каждому событию между объединенной группой (A и A1) и B."
   ]
  },
  {
   "cell_type": "markdown",
   "metadata": {},
   "source": [
    "<a id=\"conclusion\"></a>\n",
    "## Вывод"
   ]
  },
  {
   "cell_type": "markdown",
   "metadata": {},
   "source": [
    "Перед нами стояла задача проанализировать поведение пользователей в приложении по продаже продуктов питания и выяснить сколько пользователей и  как доходят до покупки, на каком этапе воронки есть проседание трафику, а так же проанализировать результаты A/A1/B теста по 3 группам: 2 контрольные со старыми шрифтами и одну экспериментальную — с новыми.\n",
    "\n",
    "На первом этапе мы подготовили данные для анализа: привели данные к нужному типу,добавили дополнительные столбцы с датой и временем и датой для удобства в дальнейшем анализу. Проверили данные на наличие пропусков\n",
    "\n",
    "Второй этап состоял из исследования количественных данных в логах:мы выяснили, что датасет содержит 5 уникальных событий, всего приложение посетили 7551 пользователь, средняя частота событий на пользователя составила 32. Далее, чтобы сделать более детальные выводы по полученным количественным данным, мы изучили период, за который взяты логи. Период составил две недели, однако при более детальном рассмотрении мы выяснили, что данные по трем группам стали накапливаться со второй недели. Поэтому мы приняли решение отсечь старую дату и взять только актуальные данные (с 1.08.2019 - 7.08.2019). По отсеченной дате мы выяснили, что потеряли около 1% по событиям и менее 1% пользователей, так как большинство пользователей повторно возвращались на сайт. Среднее количество событий на пользователя может свидетельствовать о том, что пользовтаели повторно возвращаются на сайт и совершают ключевые события или в рамках одной сессии пользоввтель совершает повторно несколько событий(несколько раз просматривает страницу с предложениями, возвращается в начало воронки)\n",
    "\n",
    "В следующем пункте мы изучили воронку событий. Выяснили, что самым частотным событием является просмотр главного экрана, далее идет экран с предложением продуктов, затем переход в корзину и оплата товара. Кроме того мы выяснили, что больше всего пользователей уходит между шагом 1 и 2(переход от главного экрана до экрана с предложениями продуктов), возможно, причины кроются в сложностях с юзабилити сайта или визуально сложном интерфейсе. Также мы выяснили, что от первого события до целевого(оплата продуктов) доходит 47% пользователей\n",
    "Дополнительно в нашем распоряжении, помимо основной воронки, были данные по событию туториал, мы выяснили, что только 11% пользователей переходит на него.\n",
    "\n",
    "Последний пункт состоял из анализа результатов A/B теста. Мы выяснили, что группы равномерно распределены по количеству пользователей. Далее мы сравнили 2 группы 246 и 247 (А и А1) на наличие статистической разницы. Полученные данные показали, что различие ключевых метрик по группам не превышает 1% и статистическая разница в пределах нормы: количество пользователей в по двух контрольным группам различается не более, чем на 1%. Далее мы проанализировали 2 контрольные группы на наличие статистической разницы по каждому событию и не выявили статистически значимой разницы в долях.Для проверки гипотез о равенстве долей использовали z-тест. В качестве альфы взяли общепринятое пороговое значение — 5%. Сравнив попарно группы A /B и A1/B, мы пришли к выводу, что между долями нет статистически значимой разницы. Также объединив данные по контрольным группам A и A1 и сравнив их с группой B, мы выяснили, что данные статистически не различаются,то есть новый шрифт не повлиял на поведение пользователей.\n"
   ]
  },
  {
   "cell_type": "code",
   "execution_count": null,
   "metadata": {},
   "outputs": [],
   "source": []
  }
 ],
 "metadata": {
  "kernelspec": {
   "display_name": "Python 3",
   "language": "python",
   "name": "python3"
  },
  "language_info": {
   "codemirror_mode": {
    "name": "ipython",
    "version": 3
   },
   "file_extension": ".py",
   "mimetype": "text/x-python",
   "name": "python",
   "nbconvert_exporter": "python",
   "pygments_lexer": "ipython3",
   "version": "3.7.6"
  }
 },
 "nbformat": 4,
 "nbformat_minor": 2
}
